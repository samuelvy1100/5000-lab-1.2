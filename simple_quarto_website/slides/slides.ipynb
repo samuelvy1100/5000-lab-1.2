{
 "cells": [
  {
   "cell_type": "markdown",
   "id": "869bb440",
   "metadata": {},
   "source": [
    "---\n",
    "title: \"Roman Empire Insights\"\n",
    "author: \"Samuel Villarreal\"\n",
    "format: revealjs \n",
    "---"
   ]
  },
  {
   "cell_type": "markdown",
   "id": "88b57284",
   "metadata": {},
   "source": [
    "# Introduction\n",
    "\n",
    "Welcome to this brief presentation of the Roman Empire "
   ]
  },
  {
   "cell_type": "markdown",
   "id": "808df800",
   "metadata": {},
   "source": [
    "## Historical Context\n",
    "\n",
    "The Roman Empire provides a foundation for much of European history [@garnsey2015roman].  \n",
    "\n",
    "- Economy shaped trade\n",
    "- Society structured governance\n",
    "- Culture influenced philosophy\n",
    "\n",
    "![Roman Map](images/image01.jpg){width=60%}"
   ]
  },
  {
   "cell_type": "markdown",
   "id": "3b2be93f",
   "metadata": {},
   "source": [
    "## Legacy\n",
    "\n",
    "Interpretations of decline continue to influence modern thought [@gibbon2003decline].\n",
    "\n",
    "![Workflow](images/image02.png){width=60%}"
   ]
  },
  {
   "cell_type": "markdown",
   "id": "dc7a5297",
   "metadata": {},
   "source": [
    "## Interpretation\n",
    "\n",
    "The roman empire was a rich state and had great influence over the world.  "
   ]
  },
  {
   "cell_type": "code",
   "execution_count": null,
   "id": "7e3f8c03",
   "metadata": {},
   "outputs": [],
   "source": [
    "#| code-fold: true\n",
    "import matplotlib.pyplot as plt\n",
    "import numpy as np\n",
    "\n",
    "x = np.linspace(0, 2*np.pi, 100)\n",
    "y = np.cos(x)\n",
    "\n",
    "plt.figure(figsize=(6,4))\n",
    "plt.plot(x, y, color=\"darkred\", label=\"y = cos(x)\")\n",
    "plt.title(\"Cosine Wave Example\")\n",
    "plt.xlabel(\"x\")\n",
    "plt.ylabel(\"cos(x)\")\n",
    "plt.legend()\n",
    "plt.grid(True)\n",
    "plt.show()\n"
   ]
  }
 ],
 "metadata": {
  "kernelspec": {
   "display_name": "dsan",
   "language": "python",
   "name": "python3"
  },
  "language_info": {
   "codemirror_mode": {
    "name": "ipython",
    "version": 3
   },
   "file_extension": ".py",
   "mimetype": "text/x-python",
   "name": "python",
   "nbconvert_exporter": "python",
   "pygments_lexer": "ipython3",
   "version": "3.12.11"
  }
 },
 "nbformat": 4,
 "nbformat_minor": 5
}
